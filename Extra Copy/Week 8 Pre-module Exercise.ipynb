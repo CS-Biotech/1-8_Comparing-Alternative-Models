{
 "cells": [
  {
   "attachments": {},
   "cell_type": "markdown",
   "metadata": {},
   "source": [
    "## To dos:\n",
    "* add questions after each section (short answer)\n",
    "\n",
    "## Work study (ws) to dos: \n",
    "* insert images\n",
    "* check for keywords and highlight them\n",
    "\n",
    "============================================================================================================"
   ]
  },
  {
   "attachments": {},
   "cell_type": "markdown",
   "metadata": {},
   "source": [
    "# Week 8: Pre-module Exercise\n",
    "\n",
    "In our pre-module, we will explore various types of challenges that might necessitate the use of machine learning solutions. By the conclusion of this section, you should grasp the fundamentals of why specific models are preferred or excel in particular situations. This understanding will set the stage for a more in-depth comparison of specific models in this week's core module.\n",
    "\n",
    "Machine learning has made significant inroads into biomedical and clinical research, offering tools and techniques that extract meaningful insights from complex datasets. To harness the full potential of ML in these fields, it's imperative to understand its primary paradigms: supervised vs. unsupervised learning, and classification vs. regression tasks. This module aims to provide clarity on these paradigms, underscore their significance, and illustrate their applications in the biomedical and clinical domains.\n",
    "\n",
    "By the conclusion of this premodule, my goal is for you to develop an awareness of the diverse range of problems that machine learning can effectively address. Possessing this understanding will simplify the process of selecting appropriate machine learning methods for various datasets and queries, making it significantly more intuitive and less overwhelming."
   ]
  },
  {
   "attachments": {},
   "cell_type": "markdown",
   "metadata": {},
   "source": [
    "## Supervised vs. Unsupervised Learning\n",
    "\n",
    "In the ever-evolving field of healthcare and medicine, the application of machine learning techniques has become increasingly important. These techniques can be broadly categorized into two main types: supervised and unsupervised learning. Each type has its unique approach and application in biomedical and clinical settings, allowing for a range of predictive and analytical capabilities. Understanding these methods is crucial for leveraging their potential in improving patient care and medical research.\n",
    "\n",
    "<span style=\"background-color: #AFEEEE\">**1. Supervised Learning**</span>:\n",
    "\n",
    "   <span style=\"background-color: #AFEEEE\">- **Definition**</span>: Supervised learning algorithms are trained using labeled data. Each training sample is paired with the correct output.\n",
    "\n",
    "   <span style=\"background-color: #AFEEEE\">- **Why Use It?**</span>: In biomedical and clinical contexts, supervised learning can help predict outcomes based on historical data where the results are known. It's akin to teaching the model with past patient records to make future predictions.\n",
    "\n",
    "   <span style=\"background-color: #AFEEEE\">- **Examples**</span>: Diagnosing diseases based on symptoms involves using a supervised algorithm that learns the mapping between symptoms and their corresponding diseases from historical data. This allows for accurate diagnoses in future patients. Similarly, predicting patient readmission is achieved by training algorithms on past patient data, where the readmission status is already known. This approach enables healthcare institutions to identify patients at risk of readmission and intervene proactively.\n",
    "\n",
    "<span style=\"background-color: #AFEEEE\">**2. Unsupervised Learning**</span>:\n",
    "\n",
    "   <span style=\"background-color: #AFEEEE\">- **Definition**</span>: Unsupervised learning deals with unlabeled data. The algorithm tries to learn the underlying structure or patterns without any prior knowledge of outcomes.\n",
    "\n",
    "   <span style=\"background-color: #AFEEEE\">*- **Why Use It?**</span>: It's valuable for discovering hidden patterns or groupings in data, especially when the outcomes aren't known beforehand.\n",
    "   \n",
    "   <span style=\"background-color: #AFEEEE\">- **Examples**</span>: In genomic clustering, unsupervised algorithms are used to analyze genetic data from various samples. This process clusters similar genomes together, which can lead to the identification of new species or strains. Similarly, in patient segmentation, hospitals can utilize unsupervised learning to categorize patients into distinct groups based on their medical records. This segmentation aids in the development of personalized treatment plans.\n",
    "\n",
    "<img src=\"image-2.gif\" alt=\"Drawing\" style=\"width: 600px;\"/>\n",
    "\n",
    "\n",
    "<img src=\"image-3.gif\" alt=\"Drawing\" style=\"width: 600px;\"/>\n",
    "\n",
    "Image: https://adatis.co.uk/introduction-to-artificial-neural-networks-part-two-gradient-descent-backpropagation-supervised-unsupervised-learning/"
   ]
  },
  {
   "attachments": {},
   "cell_type": "markdown",
   "metadata": {},
   "source": [
    "#### Exercises\n",
    "1. You are given a dataset containing gene expression profiles of various cells, with each cell type already labeled (e.g., nerve cell, muscle cell). Your task is to create a machine learning model to predict the cell type based on these profiles. Is this task an example of supervised or unsupervised learning, and why?\n"
   ]
  },
  {
   "attachments": {},
   "cell_type": "markdown",
   "metadata": {},
   "source": [
    "<span style=\"background-color: #FFD700\">**Write Answer Below**</span> "
   ]
  },
  {
   "attachments": {},
   "cell_type": "markdown",
   "metadata": {},
   "source": [
    "2. You have a dataset with genetic variants from different individuals. Each variant is classified as either 'harmful', 'benign', or 'unknown'. Your task is to build a machine learning model that predicts the classification of these variants. Is this a supervised or unsupervised learning task? Explain your reasoning."
   ]
  },
  {
   "attachments": {},
   "cell_type": "markdown",
   "metadata": {},
   "source": [
    "<span style=\"background-color: #FFD700\">**Write Answer Below**</span>"
   ]
  },
  {
   "attachments": {},
   "cell_type": "markdown",
   "metadata": {},
   "source": [
    "3. In this exercise, you're provided with a dataset containing microbiome data from various samples. Keep in mind that there are a vast number of bacterial species that can exist within your microbiome, some which you might not even expect to find in the samples but might be key in identifying new associations with diseased states. Your objective is to group these samples into clusters based on similarities in their microbiome profiles. Would this task be categorized under supervised or unsupervised learning, and why?"
   ]
  },
  {
   "attachments": {},
   "cell_type": "markdown",
   "metadata": {},
   "source": [
    "<span style=\"background-color: #FFD700\">**Write Answer Below**</span> "
   ]
  },
  {
   "attachments": {},
   "cell_type": "markdown",
   "metadata": {},
   "source": [
    "\n",
    "#### Classification vs. Regression\n",
    "\n",
    "In the realm of supervised machine learning, two fundamental approaches, classification and regression, play pivotal roles in a myriad of biomedical and clinical applications. These approaches cater to different types of prediction tasks, each with its unique methodology and utility in the healthcare sector.\n",
    "\n",
    "**1. Classification**:\n",
    "\n",
    "   <span style=\"background-color: #AFEEEE\">- **Definition**</span>: Classification algorithms predict discrete labels or categories. The output is a class label.\n",
    "\n",
    "   <span style=\"background-color: #AFEEEE\">- **Why Use It?**</span>: In situations where the desired output is a distinct category or group, classification models are the go-to choice.\n",
    "\n",
    "   <span style=\"background-color: #AFEEEE\">- **Biomedical Example**</span>: Tumor classification. Given medical imaging data, classification algorithms can determine whether a tumor is benign or malignant.\n",
    "\n",
    "   <span style=\"background-color: #AFEEEE\">- **Clinical Example**</span>: Disease outbreak prediction. Based on symptoms and regional data, classification models can predict whether an outbreak is likely or not in a given area.\n",
    "\n",
    "**2. Regression**:\n",
    "\n",
    "   <span style=\"background-color: #AFEEEE\">- **Definition**</span>: Regression algorithms predict continuous values. The output is a numerical value on a continuous scale.\n",
    "\n",
    "   <span style=\"background-color: #AFEEEE\">- **Why Use It?**</span>: Whenever the task requires predicting a quantity rather than a category, regression models come into play.\n",
    "   \n",
    "   <span style=\"background-color: #AFEEEE\">- **Examples**</span>: Drug response prediction. Given patient data and drug details, regression models can predict the concentration of a drug required to achieve a desired effect. Patient recovery time estimation. For post-operative patients, regression models can estimate the number of days required for complete recovery based on various health metrics.\n",
    "\n",
    "<img src=\"https://machinelearningknowledge.ai/wp-content/uploads/2019/09/Classification-Examples.gif\" width=\"500\" >\n",
    "\n",
    "\n",
    "<img src=\"https://machinelearningknowledge.ai/wp-content/uploads/2019/09/Regression-Examples.gif\" width=\"500\" >\n",
    "\n",
    "\n",
    "Image: https://machinelearningknowledge.ai/regression-vs-classification/ \n",
    "\n"
   ]
  },
  {
   "attachments": {},
   "cell_type": "markdown",
   "metadata": {},
   "source": [
    "4. You have a dataset of patient records, each including various health metrics like blood pressure, cholesterol levels, and age. The task is to develop a machine learning model to predict whether each patient is at risk of a specific disease. Is this a classification or a regression task? Explain why."
   ]
  },
  {
   "attachments": {},
   "cell_type": "markdown",
   "metadata": {},
   "source": [
    "\n",
    "<span style=\"background-color: #FFD700\">**Write Answer Below**</span> "
   ]
  },
  {
   "attachments": {},
   "cell_type": "markdown",
   "metadata": {},
   "source": [
    "5. In this scenario, you're working with a dataset containing different cellular conditions and the corresponding protein concentration measurements. The goal is to create a model that predicts the concentration of a certain protein under new cellular conditions. Would this be a classification or a regression task? Provide your reasoning."
   ]
  },
  {
   "attachments": {},
   "cell_type": "markdown",
   "metadata": {},
   "source": [
    "\n",
    "<span style=\"background-color: #FFD700\">**Write Answer Below**</span> "
   ]
  },
  {
   "attachments": {},
   "cell_type": "markdown",
   "metadata": {},
   "source": [
    "6. Consider a dataset where you have gene expression levels for various genes and a phenotype score for a specific trait in plants. The machine learning model's task is to predict the phenotype score based on gene expression levels. Is this task better suited for classification or regression, and why?"
   ]
  },
  {
   "attachments": {},
   "cell_type": "markdown",
   "metadata": {},
   "source": [
    "\n",
    "<span style=\"background-color: #FFD700\">**Write Answer Below**</span> "
   ]
  },
  {
   "attachments": {},
   "cell_type": "markdown",
   "metadata": {},
   "source": [
    "7. Think of a question you have or a problem you encountered in academia or in real life that may be solved by a machined learning model. What are you trying to learn from and what are you trying to predict. Explain your problem and whether it is a supervised or unsupervised task. If it is supervised, discuss whether it is classification or regression."
   ]
  },
  {
   "attachments": {},
   "cell_type": "markdown",
   "metadata": {},
   "source": [
    "\n",
    "<span style=\"background-color: #FFD700\">**Write Answer Below**</span> "
   ]
  },
  {
   "attachments": {},
   "cell_type": "markdown",
   "metadata": {},
   "source": [
    "#### Conclusion:\n",
    "\n",
    "Machine learning offers a diverse toolkit tailored to the intricacies of biomedical and clinical data. By understanding the paradigms of supervised vs. unsupervised learning and classification vs. regression, professionals can make informed decisions, choosing the right tool for the task at hand. As the field progresses, the fusion of ML with biomedical and clinical research promises to usher in an era of personalized medicine, advanced diagnostics, and predictive healthcare."
   ]
  }
 ],
 "metadata": {
  "language_info": {
   "name": "python"
  },
  "orig_nbformat": 4
 },
 "nbformat": 4,
 "nbformat_minor": 2
}
